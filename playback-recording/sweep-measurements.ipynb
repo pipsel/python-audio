{
 "metadata": {
  "name": "",
  "signature": "sha256:f76b298a85009b9b277e14991b558e6248b4b0beb5a8851a7d6c943881ebcbc8"
 },
 "nbformat": 3,
 "nbformat_minor": 0,
 "worksheets": [
  {
   "cells": [
    {
     "cell_type": "code",
     "collapsed": false,
     "input": [
      "%matplotlib inline\n",
      "import matplotlib.pyplot as plt\n",
      "import numpy as np"
     ],
     "language": "python",
     "metadata": {},
     "outputs": [],
     "prompt_number": 1
    },
    {
     "cell_type": "code",
     "collapsed": false,
     "input": [
      "def exponential_sweep(f1, f2, T, fs, fade_duration):\n",
      "    \"\"\"Create exponential sweep.\n",
      "    \n",
      "    f1, f2: start/stop frequency (Hz)\n",
      "    T: duration (sec)\n",
      "    fs: sample rate (Hz)\n",
      "    fade_duration: time to fade in/out (sec)\n",
      "    \n",
      "    \"\"\"\n",
      "    t = np.arange(0, T, 1 / fs)\n",
      "    L = T / np.log(f2 / f1);  # rate of exponential increase\n",
      "\n",
      "    phi = 2 * np.pi * f1 * L * (np.exp(t / L) - 1);\n",
      "\n",
      "    # force zero crossing at begin and end\n",
      "    phi = phi - phi[0]\n",
      "    phi = phi - np.linspace(0, np.mod(phi[-1], 2 * np.pi), len(t))\n",
      "\n",
      "    result = 0.5 * np.sin(phi)\n",
      "\n",
      "    fade_length = np.ceil(fade_duration * fs);\n",
      "    # make odd-length window\n",
      "    w = np.hanning(2 * fade_length + 1);\n",
      "    #idx = slice(fade_length);\n",
      "    #result[idx] = result[idx] * w[idx];\n",
      "    #idx = slice(-fade_length, None);\n",
      "    #result[idx] = result[idx] * w[idx];\n",
      "    \n",
      "    return result"
     ],
     "language": "python",
     "metadata": {},
     "outputs": [],
     "prompt_number": 2
    },
    {
     "cell_type": "code",
     "collapsed": false,
     "input": [
      "T = 4\n",
      "fs = 44100\n",
      "f1 = 10\n",
      "f2 = fs\n",
      "fade_length = 0.1"
     ],
     "language": "python",
     "metadata": {},
     "outputs": [],
     "prompt_number": 3
    },
    {
     "cell_type": "code",
     "collapsed": false,
     "input": [
      "sweep = exponential_sweep(f1, f2, T, fs, fade_length)"
     ],
     "language": "python",
     "metadata": {},
     "outputs": [],
     "prompt_number": 23
    },
    {
     "cell_type": "code",
     "collapsed": false,
     "input": [
      "plt.plot(sweep);"
     ],
     "language": "python",
     "metadata": {},
     "outputs": [],
     "prompt_number": 24
    },
    {
     "cell_type": "code",
     "collapsed": false,
     "input": [
      "from scipy import signal"
     ],
     "language": "python",
     "metadata": {},
     "outputs": [],
     "prompt_number": 6
    },
    {
     "cell_type": "code",
     "collapsed": false,
     "input": [
      "t = np.arange(np.ceil(T * fs)) / fs"
     ],
     "language": "python",
     "metadata": {},
     "outputs": [],
     "prompt_number": 18
    },
    {
     "cell_type": "code",
     "collapsed": false,
     "input": [
      "sweep = signal.chirp(t, f1, T, f2, 'log')"
     ],
     "language": "python",
     "metadata": {},
     "outputs": [],
     "prompt_number": 19
    },
    {
     "cell_type": "code",
     "collapsed": false,
     "input": [
      "plt.plot(sweep);"
     ],
     "language": "python",
     "metadata": {},
     "outputs": [],
     "prompt_number": 22
    },
    {
     "cell_type": "code",
     "collapsed": false,
     "input": [],
     "language": "python",
     "metadata": {},
     "outputs": []
    }
   ],
   "metadata": {}
  }
 ]
}