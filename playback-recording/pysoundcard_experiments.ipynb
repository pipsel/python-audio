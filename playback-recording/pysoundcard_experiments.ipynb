{
 "metadata": {
  "name": "",
  "signature": "sha256:6a8fb0e1b54027ac72385b9fa5598784dd1b8b26cbdd69ab5d34ec1ff98c0221"
 },
 "nbformat": 3,
 "nbformat_minor": 0,
 "worksheets": [
  {
   "cells": [
    {
     "cell_type": "code",
     "collapsed": true,
     "input": [
      "import pysoundcard as pa\n",
      "import pysoundfile as sf\n",
      "\n",
      "#pa.default.device = 0\n",
      "pa.default.device = 5\n",
      "pa.default.samplerate = 32000"
     ],
     "language": "python",
     "metadata": {},
     "outputs": [],
     "prompt_number": 1
    },
    {
     "cell_type": "code",
     "collapsed": false,
     "input": [
      "#sig, fs = sf.read('BluesA_GitL_44100.wav')\n",
      "#sig, fs = sf.read('ebony_trp.wav')\n",
      "#sig, fs = sf.read('ebony_trp.wav', dtype='int16')\n",
      "#sig, fs = sf.read('Track49.wav')\n",
      "sig, fs = sf.read('cool.wav')"
     ],
     "language": "python",
     "metadata": {},
     "outputs": [],
     "prompt_number": 2
    },
    {
     "cell_type": "code",
     "collapsed": false,
     "input": [
      "#pa.play(sig, fs, device=5)\n",
      "\n",
      "pa.play(sig, fs)\n",
      "#pa.play(sig, fs, mapping=[2, 1])\n",
      "#pa.play(sig, fs, mapping=[2])\n",
      "\n",
      "#pa.play(sig, fs, blocking=True)\n",
      "\n",
      "#pa.play(*sf.read('ebony_trp.wav'))"
     ],
     "language": "python",
     "metadata": {},
     "outputs": [],
     "prompt_number": 3
    },
    {
     "cell_type": "code",
     "collapsed": false,
     "input": [
      "pa.stop()"
     ],
     "language": "python",
     "metadata": {},
     "outputs": [],
     "prompt_number": 4
    },
    {
     "cell_type": "code",
     "collapsed": false,
     "input": [
      "pa.wait()"
     ],
     "language": "python",
     "metadata": {},
     "outputs": [],
     "prompt_number": 5
    },
    {
     "cell_type": "code",
     "collapsed": false,
     "input": [
      "pa.stop()"
     ],
     "language": "python",
     "metadata": {},
     "outputs": [],
     "prompt_number": 6
    },
    {
     "cell_type": "code",
     "collapsed": false,
     "input": [],
     "language": "python",
     "metadata": {},
     "outputs": [],
     "prompt_number": 6
    },
    {
     "cell_type": "code",
     "collapsed": false,
     "input": [
      "import pysoundcard as pa\n",
      "import numpy as np\n",
      "\n",
      "pa.default.device = 5\n",
      "pa.default.samplerate = 44100"
     ],
     "language": "python",
     "metadata": {},
     "outputs": [],
     "prompt_number": 7
    },
    {
     "cell_type": "code",
     "collapsed": false,
     "input": [
      "pa.play(0.5)"
     ],
     "language": "python",
     "metadata": {},
     "outputs": [],
     "prompt_number": 8
    },
    {
     "cell_type": "code",
     "collapsed": false,
     "input": [
      "pa.play(1.0)"
     ],
     "language": "python",
     "metadata": {},
     "outputs": [],
     "prompt_number": 9
    },
    {
     "cell_type": "code",
     "collapsed": false,
     "input": [
      "pa.play([0.5, 0.5])  # mono"
     ],
     "language": "python",
     "metadata": {},
     "outputs": [],
     "prompt_number": 10
    },
    {
     "cell_type": "code",
     "collapsed": false,
     "input": [
      "pa.play([[0.5, 0.5]])  # stereo"
     ],
     "language": "python",
     "metadata": {},
     "outputs": [],
     "prompt_number": 11
    },
    {
     "cell_type": "code",
     "collapsed": false,
     "input": [
      "pa.play([])  # immediate abort_flag"
     ],
     "language": "python",
     "metadata": {},
     "outputs": [],
     "prompt_number": 12
    },
    {
     "cell_type": "code",
     "collapsed": false,
     "input": [
      "pa.play(1.0, mapping=[2])"
     ],
     "language": "python",
     "metadata": {},
     "outputs": [],
     "prompt_number": 13
    },
    {
     "cell_type": "code",
     "collapsed": false,
     "input": [
      "pa.play(1.0, mapping=2)"
     ],
     "language": "python",
     "metadata": {},
     "outputs": [],
     "prompt_number": 14
    },
    {
     "cell_type": "code",
     "collapsed": false,
     "input": [],
     "language": "python",
     "metadata": {},
     "outputs": [],
     "prompt_number": 14
    },
    {
     "cell_type": "code",
     "collapsed": false,
     "input": [
      "import pysoundcard as pa\n",
      "\n",
      "fs = 44100\n",
      "pa.default.device = 5\n",
      "#pa.init.samplerate = fs\n",
      "pa.default.channels = 2"
     ],
     "language": "python",
     "metadata": {},
     "outputs": [],
     "prompt_number": 15
    },
    {
     "cell_type": "code",
     "collapsed": false,
     "input": [
      "#data = pa.rec(44100, 2, 44100)\n",
      "#data = pa.rec(44100, 1, 44100)\n",
      "data = pa.rec(3 * fs, blocking=True)"
     ],
     "language": "python",
     "metadata": {},
     "outputs": [],
     "prompt_number": 16
    },
    {
     "cell_type": "code",
     "collapsed": false,
     "input": [
      "pa.play(data)"
     ],
     "language": "python",
     "metadata": {},
     "outputs": [],
     "prompt_number": 17
    },
    {
     "cell_type": "code",
     "collapsed": false,
     "input": [
      "pa.stop()"
     ],
     "language": "python",
     "metadata": {},
     "outputs": [],
     "prompt_number": 18
    },
    {
     "cell_type": "code",
     "collapsed": false,
     "input": [
      "pa.playrec(data, out=data, blocking=True)"
     ],
     "language": "python",
     "metadata": {},
     "outputs": [
      {
       "metadata": {},
       "output_type": "pyout",
       "prompt_number": 19,
       "text": [
        "array([[-0.1195717 ,  0.149004  ],\n",
        "       [-0.12829401,  0.1456299 ],\n",
        "       [-0.12442972,  0.14982988],\n",
        "       ..., \n",
        "       [-0.04445839,  0.22959903],\n",
        "       [-0.04288102,  0.23102   ],\n",
        "       [-0.04334641,  0.23096278]], dtype=float32)"
       ]
      }
     ],
     "prompt_number": 19
    },
    {
     "cell_type": "code",
     "collapsed": false,
     "input": [
      "data"
     ],
     "language": "python",
     "metadata": {},
     "outputs": [
      {
       "metadata": {},
       "output_type": "pyout",
       "prompt_number": 20,
       "text": [
        "array([[-0.1195717 ,  0.149004  ],\n",
        "       [-0.12829401,  0.1456299 ],\n",
        "       [-0.12442972,  0.14982988],\n",
        "       ..., \n",
        "       [-0.04445839,  0.22959903],\n",
        "       [-0.04288102,  0.23102   ],\n",
        "       [-0.04334641,  0.23096278]], dtype=float32)"
       ]
      }
     ],
     "prompt_number": 20
    },
    {
     "cell_type": "code",
     "collapsed": false,
     "input": [],
     "language": "python",
     "metadata": {},
     "outputs": []
    }
   ],
   "metadata": {}
  }
 ]
}